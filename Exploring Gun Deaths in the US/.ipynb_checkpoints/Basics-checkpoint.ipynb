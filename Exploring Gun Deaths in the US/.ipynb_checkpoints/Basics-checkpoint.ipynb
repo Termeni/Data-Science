{
 "cells": [
  {
   "cell_type": "markdown",
   "metadata": {
    "collapsed": true
   },
   "source": [
    "# Exploring Gun Deaths in the US\n",
    "\n",
    "In this project we will work analyzing data on gun deaths in the US.\n",
    "\n",
    "First we will load the csv file guns-data from FiveThiryEight and display the first 5 rows in order to give a quick look into the data."
   ]
  },
  {
   "cell_type": "code",
   "execution_count": 5,
   "metadata": {
    "collapsed": false
   },
   "outputs": [
    {
     "name": "stdout",
     "output_type": "stream",
     "text": [
      "[['', 'year', 'month', 'intent', 'police', 'sex', 'age', 'race', 'hispanic', 'place', 'education'], ['1', '2012', '01', 'Suicide', '0', 'M', '34', 'Asian/Pacific Islander', '100', 'Home', '4'], ['2', '2012', '01', 'Suicide', '0', 'F', '21', 'White', '100', 'Street', '3'], ['3', '2012', '01', 'Suicide', '0', 'M', '60', 'White', '100', 'Other specified', '4'], ['4', '2012', '02', 'Suicide', '0', 'M', '64', 'White', '100', 'Home', '4']]\n"
     ]
    }
   ],
   "source": [
    "import csv\n",
    "\n",
    "f = open(\"guns.csv\",'r')\n",
    "\n",
    "data = list(csv.reader(f))\n",
    "\n",
    "print(data[:5])\n"
   ]
  },
  {
   "cell_type": "markdown",
   "metadata": {},
   "source": [
    "Now we will remove the header row and display the first 5 values to ensure that we have done it correctly."
   ]
  },
  {
   "cell_type": "code",
   "execution_count": 6,
   "metadata": {
    "collapsed": false
   },
   "outputs": [
    {
     "name": "stdout",
     "output_type": "stream",
     "text": [
      "[['1', '2012', '01', 'Suicide', '0', 'M', '34', 'Asian/Pacific Islander', '100', 'Home', '4'], ['2', '2012', '01', 'Suicide', '0', 'F', '21', 'White', '100', 'Street', '3'], ['3', '2012', '01', 'Suicide', '0', 'M', '60', 'White', '100', 'Other specified', '4'], ['4', '2012', '02', 'Suicide', '0', 'M', '64', 'White', '100', 'Home', '4'], ['5', '2012', '02', 'Suicide', '0', 'M', '31', 'White', '100', 'Other specified', '2']]\n"
     ]
    }
   ],
   "source": [
    "data = data[1:]\n",
    "print(data[:5])"
   ]
  },
  {
   "cell_type": "markdown",
   "metadata": {},
   "source": [
    "Now we will count the number of deaths per year and store the data in a ditcinary"
   ]
  },
  {
   "cell_type": "code",
   "execution_count": 7,
   "metadata": {
    "collapsed": false
   },
   "outputs": [
    {
     "name": "stdout",
     "output_type": "stream",
     "text": [
      "{'2013': 33636, '2014': 33599, '2012': 33563}\n"
     ]
    }
   ],
   "source": [
    "year_counts = {}\n",
    "for row in data:\n",
    "    if row[1] in year_counts:\n",
    "        year_counts[row[1]] += 1\n",
    "    else:\n",
    "        year_counts[row[1]] = 1\n",
    "print(year_counts)"
   ]
  },
  {
   "cell_type": "markdown",
   "metadata": {},
   "source": [
    "Now we are going to analyze the dates more accurately, in order to do that we will create a datetime object for each row in the dataset and count the deaths per each day"
   ]
  },
  {
   "cell_type": "code",
   "execution_count": 8,
   "metadata": {
    "collapsed": false
   },
   "outputs": [
    {
     "name": "stdout",
     "output_type": "stream",
     "text": [
      "[datetime.datetime(2012, 1, 1, 0, 0), datetime.datetime(2012, 1, 1, 0, 0), datetime.datetime(2012, 1, 1, 0, 0), datetime.datetime(2012, 2, 1, 0, 0), datetime.datetime(2012, 2, 1, 0, 0)]\n",
      "{datetime.datetime(2012, 11, 1, 0, 0): 2729, datetime.datetime(2014, 7, 1, 0, 0): 2884, datetime.datetime(2013, 11, 1, 0, 0): 2758, datetime.datetime(2014, 1, 1, 0, 0): 2651, datetime.datetime(2012, 6, 1, 0, 0): 2826, datetime.datetime(2014, 8, 1, 0, 0): 2970, datetime.datetime(2013, 8, 1, 0, 0): 2859, datetime.datetime(2012, 4, 1, 0, 0): 2795, datetime.datetime(2013, 9, 1, 0, 0): 2742, datetime.datetime(2014, 11, 1, 0, 0): 2756, datetime.datetime(2012, 7, 1, 0, 0): 3026, datetime.datetime(2012, 5, 1, 0, 0): 2999, datetime.datetime(2012, 8, 1, 0, 0): 2954, datetime.datetime(2013, 10, 1, 0, 0): 2808, datetime.datetime(2013, 2, 1, 0, 0): 2375, datetime.datetime(2012, 3, 1, 0, 0): 2743, datetime.datetime(2014, 10, 1, 0, 0): 2865, datetime.datetime(2012, 9, 1, 0, 0): 2852, datetime.datetime(2014, 3, 1, 0, 0): 2684, datetime.datetime(2012, 1, 1, 0, 0): 2758, datetime.datetime(2014, 12, 1, 0, 0): 2857, datetime.datetime(2013, 4, 1, 0, 0): 2798, datetime.datetime(2013, 3, 1, 0, 0): 2862, datetime.datetime(2014, 9, 1, 0, 0): 2914, datetime.datetime(2014, 6, 1, 0, 0): 2931, datetime.datetime(2013, 12, 1, 0, 0): 2765, datetime.datetime(2013, 7, 1, 0, 0): 3079, datetime.datetime(2013, 1, 1, 0, 0): 2864, datetime.datetime(2012, 2, 1, 0, 0): 2357, datetime.datetime(2012, 10, 1, 0, 0): 2733, datetime.datetime(2014, 4, 1, 0, 0): 2862, datetime.datetime(2014, 2, 1, 0, 0): 2361, datetime.datetime(2014, 5, 1, 0, 0): 2864, datetime.datetime(2012, 12, 1, 0, 0): 2791, datetime.datetime(2013, 5, 1, 0, 0): 2806, datetime.datetime(2013, 6, 1, 0, 0): 2920}\n"
     ]
    }
   ],
   "source": [
    "import datetime\n",
    "\n",
    "dates = [\n",
    "    datetime.datetime(year=int(row[1]) ,month=int(row[2]), day=1) \n",
    "    for row in data\n",
    "]\n",
    "\n",
    "print(dates[:5])\n",
    "\n",
    "date_counts = {}\n",
    "\n",
    "for date in dates:\n",
    "    if date in date_counts:\n",
    "        date_counts[date] += 1\n",
    "    else:\n",
    "        date_counts[date] = 1\n",
    "\n",
    "print(date_counts)"
   ]
  },
  {
   "cell_type": "markdown",
   "metadata": {},
   "source": [
    "Now we are going to count the deaths per race and sex"
   ]
  },
  {
   "cell_type": "code",
   "execution_count": 9,
   "metadata": {
    "collapsed": false
   },
   "outputs": [
    {
     "name": "stdout",
     "output_type": "stream",
     "text": [
      "{'F': 14449, 'M': 86349}\n",
      "{'White': 66237, 'Asian/Pacific Islander': 1326, 'Black': 23296, 'Native American/Native Alaskan': 917, 'Hispanic': 9022}\n"
     ]
    }
   ],
   "source": [
    "sex_counts = {}\n",
    "\n",
    "for row in data:\n",
    "    if row[5] in sex_counts:\n",
    "        sex_counts[row[5]] += 1\n",
    "    else:\n",
    "        sex_counts[row[5]] = 1\n",
    "\n",
    "print(sex_counts)\n",
    "\n",
    "race_counts = {}\n",
    "\n",
    "for row in data:\n",
    "    if row[7] in race_counts:\n",
    "        race_counts[row[7]] += 1\n",
    "    else:\n",
    "        race_counts[row[7]] = 1\n",
    "\n",
    "print(race_counts)\n",
    "\n"
   ]
  },
  {
   "cell_type": "code",
   "execution_count": 10,
   "metadata": {
    "collapsed": false
   },
   "outputs": [
    {
     "name": "stdout",
     "output_type": "stream",
     "text": [
      "[(datetime.datetime(2012, 2, 1, 0, 0), 2357), (datetime.datetime(2014, 2, 1, 0, 0), 2361), (datetime.datetime(2013, 2, 1, 0, 0), 2375), (datetime.datetime(2014, 1, 1, 0, 0), 2651), (datetime.datetime(2014, 3, 1, 0, 0), 2684), (datetime.datetime(2012, 11, 1, 0, 0), 2729), (datetime.datetime(2012, 10, 1, 0, 0), 2733), (datetime.datetime(2013, 9, 1, 0, 0), 2742), (datetime.datetime(2012, 3, 1, 0, 0), 2743), (datetime.datetime(2014, 11, 1, 0, 0), 2756), (datetime.datetime(2013, 11, 1, 0, 0), 2758), (datetime.datetime(2012, 1, 1, 0, 0), 2758), (datetime.datetime(2013, 12, 1, 0, 0), 2765), (datetime.datetime(2012, 12, 1, 0, 0), 2791), (datetime.datetime(2012, 4, 1, 0, 0), 2795), (datetime.datetime(2013, 4, 1, 0, 0), 2798), (datetime.datetime(2013, 5, 1, 0, 0), 2806), (datetime.datetime(2013, 10, 1, 0, 0), 2808), (datetime.datetime(2012, 6, 1, 0, 0), 2826), (datetime.datetime(2012, 9, 1, 0, 0), 2852), (datetime.datetime(2014, 12, 1, 0, 0), 2857), (datetime.datetime(2013, 8, 1, 0, 0), 2859), (datetime.datetime(2013, 3, 1, 0, 0), 2862), (datetime.datetime(2014, 4, 1, 0, 0), 2862), (datetime.datetime(2013, 1, 1, 0, 0), 2864), (datetime.datetime(2014, 5, 1, 0, 0), 2864), (datetime.datetime(2014, 10, 1, 0, 0), 2865), (datetime.datetime(2014, 7, 1, 0, 0), 2884), (datetime.datetime(2014, 9, 1, 0, 0), 2914), (datetime.datetime(2013, 6, 1, 0, 0), 2920), (datetime.datetime(2014, 6, 1, 0, 0), 2931), (datetime.datetime(2012, 8, 1, 0, 0), 2954), (datetime.datetime(2014, 8, 1, 0, 0), 2970), (datetime.datetime(2012, 5, 1, 0, 0), 2999), (datetime.datetime(2012, 7, 1, 0, 0), 3026), (datetime.datetime(2013, 7, 1, 0, 0), 3079)]\n"
     ]
    }
   ],
   "source": [
    "import operator\n",
    "sorted_x = sorted(date_counts.items(), key=operator.itemgetter(1))\n",
    "print(sorted_x)"
   ]
  },
  {
   "cell_type": "markdown",
   "metadata": {},
   "source": [
    "- We've seen that the deaths per firegun had been increasing year after year\n",
    "- Seeing the year distribution the months withs more deaths are the winter ones with february leading the team, and the ones with less deaths are the summer ones\n",
    "- 86% of the victims are male members the other 14% womans\n"
   ]
  },
  {
   "cell_type": "markdown",
   "metadata": {},
   "source": [
    "Now we are going to contrast the data of deaths per gun against the census one"
   ]
  },
  {
   "cell_type": "code",
   "execution_count": 11,
   "metadata": {
    "collapsed": false
   },
   "outputs": [
    {
     "name": "stdout",
     "output_type": "stream",
     "text": [
      "[['Id', 'Year', 'Id', 'Sex', 'Id', 'Hispanic Origin', 'Id', 'Id2', 'Geography', 'Total', 'Race Alone - White', 'Race Alone - Hispanic', 'Race Alone - Black or African American', 'Race Alone - American Indian and Alaska Native', 'Race Alone - Asian', 'Race Alone - Native Hawaiian and Other Pacific Islander', 'Two or More Races'], ['cen42010', 'April 1, 2010 Census', 'totsex', 'Both Sexes', 'tothisp', 'Total', '0100000US', '', 'United States', '308745538', '197318956', '44618105', '40250635', '3739506', '15159516', '674625', '6984195']]\n"
     ]
    }
   ],
   "source": [
    "f2 = open(\"census.csv\",'r')\n",
    "census = list(csv.reader(f2))\n",
    "print(census[:5])"
   ]
  },
  {
   "cell_type": "code",
   "execution_count": 27,
   "metadata": {
    "collapsed": false
   },
   "outputs": [
    {
     "name": "stdout",
     "output_type": "stream",
     "text": [
      "{'Hispanic': 44618105, 'Asian/Pacific Islander': 15159516674625, 'Black': 40250635, 'Native American/Native Alaskan': 3739506, 'White': 197318956}\n",
      "{'White': 33.56849303419181, 'Asian/Pacific Islander': 8.746980714890115e-06, 'Black': 57.8773477735196, 'Native American/Native Alaskan': 24.521955573811088, 'Hispanic': 20.220491210910907}\n"
     ]
    }
   ],
   "source": [
    "census_dir = {}\n",
    "\n",
    "for i in range(10,17):\n",
    "    census_dir[census[0][i]] = census[1][i]\n",
    "\n",
    "mapping = {\n",
    "    \"Asian/Pacific Islander\":int(census_dir['Race Alone - Asian']+census_dir['Race Alone - Native Hawaiian and Other Pacific Islander'])\n",
    "    ,\"Black\":int(census_dir['Race Alone - Black or African American'])\n",
    "    ,\"Native American/Native Alaskan\":int(census_dir['Race Alone - American Indian and Alaska Native'])\n",
    "    ,\"Hispanic\":int(census_dir['Race Alone - Hispanic'])\n",
    "    ,\"White\":int(census_dir['Race Alone - White'])\n",
    "}\n",
    "\n",
    "print(mapping)\n",
    "\n",
    "race_per_hundredk = {}\n",
    "\n",
    "for key,val in race_counts.items():\n",
    "    race_per_hundredk[key] = val / mapping[key] * 100000\n",
    "    \n",
    "print(race_per_hundredk)"
   ]
  },
  {
   "cell_type": "code",
   "execution_count": 42,
   "metadata": {
    "collapsed": false
   },
   "outputs": [
    {
     "name": "stdout",
     "output_type": "stream",
     "text": [
      "{'White': 9147, 'Asian/Pacific Islander': 559, 'Black': 19510, 'Native American/Native Alaskan': 326, 'Hispanic': 5634}\n"
     ]
    }
   ],
   "source": [
    "intents = [x[3] for x in data]\n",
    "races = [x[7] for x in data]\n",
    "\n",
    "homicide_race_counts = {}\n",
    "\n",
    "for i,val in enumerate(races):\n",
    "    if intents[i] == 'Homicide':\n",
    "        if val in homicide_race_counts:\n",
    "            homicide_race_counts[val] += 1\n",
    "        else:\n",
    "            homicide_race_counts[val] = 1\n",
    "\n",
    "print(homicide_race_counts)"
   ]
  },
  {
   "cell_type": "code",
   "execution_count": null,
   "metadata": {
    "collapsed": true
   },
   "outputs": [],
   "source": []
  }
 ],
 "metadata": {
  "kernelspec": {
   "display_name": "Python 3",
   "language": "python",
   "name": "python3"
  },
  "language_info": {
   "codemirror_mode": {
    "name": "ipython",
    "version": 3
   },
   "file_extension": ".py",
   "mimetype": "text/x-python",
   "name": "python",
   "nbconvert_exporter": "python",
   "pygments_lexer": "ipython3",
   "version": "3.4.3"
  }
 },
 "nbformat": 4,
 "nbformat_minor": 0
}
